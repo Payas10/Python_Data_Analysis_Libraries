{
 "cells": [
  {
   "cell_type": "markdown",
   "id": "95e8edde-ada2-4456-8153-205545c93209",
   "metadata": {},
   "source": [
    "# NumPy - Part - 3"
   ]
  },
  {
   "cell_type": "code",
   "execution_count": 1,
   "id": "8073c538-b751-4e88-b756-b263e59bda9b",
   "metadata": {},
   "outputs": [],
   "source": [
    "import numpy as np"
   ]
  },
  {
   "cell_type": "markdown",
   "id": "38898d72-b9fb-47b8-9b7f-970d2ce321ec",
   "metadata": {},
   "source": [
    "### Numpy - Array Manipulation."
   ]
  },
  {
   "cell_type": "code",
   "execution_count": 2,
   "id": "fb99d091-fc6c-4154-a75e-079d833e04cd",
   "metadata": {},
   "outputs": [],
   "source": [
    "arr = np.random.randint(1,10 , (4,4))"
   ]
  },
  {
   "cell_type": "code",
   "execution_count": 3,
   "id": "945961d7-cc38-4606-b72e-48df81a8cf3e",
   "metadata": {},
   "outputs": [
    {
     "data": {
      "text/plain": [
       "array([[4, 8, 3, 3],\n",
       "       [2, 5, 2, 9],\n",
       "       [3, 5, 3, 6],\n",
       "       [5, 9, 2, 6]])"
      ]
     },
     "execution_count": 3,
     "metadata": {},
     "output_type": "execute_result"
    }
   ],
   "source": [
    "arr"
   ]
  },
  {
   "cell_type": "code",
   "execution_count": 4,
   "id": "622fdb9e-fae3-4db8-8112-b712f4d08a4d",
   "metadata": {},
   "outputs": [
    {
     "data": {
      "text/plain": [
       "array([[4, 8],\n",
       "       [3, 3],\n",
       "       [2, 5],\n",
       "       [2, 9],\n",
       "       [3, 5],\n",
       "       [3, 6],\n",
       "       [5, 9],\n",
       "       [2, 6]])"
      ]
     },
     "execution_count": 4,
     "metadata": {},
     "output_type": "execute_result"
    }
   ],
   "source": [
    "arr.reshape(8,2)"
   ]
  },
  {
   "cell_type": "code",
   "execution_count": 5,
   "id": "393e66f1-c7d0-4947-a96f-2b2294f5a29c",
   "metadata": {},
   "outputs": [
    {
     "data": {
      "text/plain": [
       "array([[4, 8, 3, 3],\n",
       "       [2, 5, 2, 9],\n",
       "       [3, 5, 3, 6],\n",
       "       [5, 9, 2, 6]])"
      ]
     },
     "execution_count": 5,
     "metadata": {},
     "output_type": "execute_result"
    }
   ],
   "source": [
    "arr"
   ]
  },
  {
   "cell_type": "code",
   "execution_count": 6,
   "id": "190d51cf-8a41-430e-81ef-e364d40c7316",
   "metadata": {},
   "outputs": [
    {
     "data": {
      "text/plain": [
       "array([[4, 2, 3, 5],\n",
       "       [8, 5, 5, 9],\n",
       "       [3, 2, 3, 2],\n",
       "       [3, 9, 6, 6]])"
      ]
     },
     "execution_count": 6,
     "metadata": {},
     "output_type": "execute_result"
    }
   ],
   "source": [
    "arr.T"
   ]
  },
  {
   "cell_type": "code",
   "execution_count": 8,
   "id": "4fb31618-0313-4cb9-a195-21687656870d",
   "metadata": {},
   "outputs": [
    {
     "data": {
      "text/plain": [
       "array([[4, 2, 3, 5],\n",
       "       [8, 5, 5, 9],\n",
       "       [3, 2, 3, 2],\n",
       "       [3, 9, 6, 6]])"
      ]
     },
     "execution_count": 8,
     "metadata": {},
     "output_type": "execute_result"
    }
   ],
   "source": [
    "arr.transpose()"
   ]
  },
  {
   "cell_type": "code",
   "execution_count": 13,
   "id": "b6da2106-bdaf-41a1-889b-f1996ad4ea53",
   "metadata": {},
   "outputs": [
    {
     "data": {
      "text/plain": [
       "array([4, 8, 3, 3, 2, 5, 2, 9, 3, 5, 3, 6, 5, 9, 2, 6])"
      ]
     },
     "execution_count": 13,
     "metadata": {},
     "output_type": "execute_result"
    }
   ],
   "source": [
    "arr.flatten() # converts multidimensional array into 1-dimensional"
   ]
  },
  {
   "cell_type": "code",
   "execution_count": 10,
   "id": "9069c793-f14e-4a20-b12f-e79adc8f5754",
   "metadata": {},
   "outputs": [
    {
     "data": {
      "text/plain": [
       "array([[4, 8, 3, 3],\n",
       "       [2, 5, 2, 9],\n",
       "       [3, 5, 3, 6],\n",
       "       [5, 9, 2, 6]])"
      ]
     },
     "execution_count": 10,
     "metadata": {},
     "output_type": "execute_result"
    }
   ],
   "source": [
    "arr"
   ]
  },
  {
   "cell_type": "code",
   "execution_count": 16,
   "id": "e002c717-7e90-46ad-91a0-a6c2021af5f8",
   "metadata": {},
   "outputs": [
    {
     "data": {
      "text/plain": [
       "array([[[4, 8, 3, 3]],\n",
       "\n",
       "       [[2, 5, 2, 9]],\n",
       "\n",
       "       [[3, 5, 3, 6]],\n",
       "\n",
       "       [[5, 9, 2, 6]]])"
      ]
     },
     "execution_count": 16,
     "metadata": {},
     "output_type": "execute_result"
    }
   ],
   "source": [
    "np.expand_dims(arr, axis=1) # add one more axis dimension to array\n",
    "\n",
    "# Insert a new axis that will appear at the `axis` position in the expanded array shape."
   ]
  },
  {
   "cell_type": "code",
   "execution_count": 17,
   "id": "419c9db9-7668-4aaf-9418-de034fc2c745",
   "metadata": {},
   "outputs": [
    {
     "data": {
      "text/plain": [
       "array([[[4, 8, 3, 3],\n",
       "        [2, 5, 2, 9],\n",
       "        [3, 5, 3, 6],\n",
       "        [5, 9, 2, 6]]])"
      ]
     },
     "execution_count": 17,
     "metadata": {},
     "output_type": "execute_result"
    }
   ],
   "source": [
    "np.expand_dims(arr, axis=0) # adds one more dimension to array\n",
    "\n",
    "# Insert a new axis that will appear at the `axis` position in the expanded array shape."
   ]
  },
  {
   "cell_type": "code",
   "execution_count": 18,
   "id": "68b86105-0342-4c91-9917-c41322dbfeb8",
   "metadata": {},
   "outputs": [],
   "source": [
    "data = np.array([[1] , [2] , [3]])"
   ]
  },
  {
   "cell_type": "code",
   "execution_count": 19,
   "id": "fd9c1551-99aa-4bc1-85b6-a2f3fb7aba6a",
   "metadata": {},
   "outputs": [
    {
     "data": {
      "text/plain": [
       "array([[1],\n",
       "       [2],\n",
       "       [3]])"
      ]
     },
     "execution_count": 19,
     "metadata": {},
     "output_type": "execute_result"
    }
   ],
   "source": [
    "data"
   ]
  },
  {
   "cell_type": "code",
   "execution_count": 21,
   "id": "48f7cb7e-ad39-4b69-8097-30b48d74c062",
   "metadata": {},
   "outputs": [
    {
     "data": {
      "text/plain": [
       "array([1, 2, 3])"
      ]
     },
     "execution_count": 21,
     "metadata": {},
     "output_type": "execute_result"
    }
   ],
   "source": [
    "np.squeeze(data)  # Remove axes of length one from `a`.\n",
    "\n",
    "# basically converting into single dimension array"
   ]
  },
  {
   "cell_type": "code",
   "execution_count": 23,
   "id": "7ae2ecbb-f9b8-4c5e-aa21-e6819693ce59",
   "metadata": {},
   "outputs": [
    {
     "data": {
      "text/plain": [
       "array([1, 1, 1, 1, 2, 2, 2, 2, 3, 3, 3, 3])"
      ]
     },
     "execution_count": 23,
     "metadata": {},
     "output_type": "execute_result"
    }
   ],
   "source": [
    "np.repeat(data, 4) # repeat the elements of array by no. of times mentioned"
   ]
  },
  {
   "cell_type": "code",
   "execution_count": 25,
   "id": "5c04c149-f03c-4c35-92fb-01f313e67fcb",
   "metadata": {},
   "outputs": [
    {
     "data": {
      "text/plain": [
       "array([[1],\n",
       "       [2],\n",
       "       [3]])"
      ]
     },
     "execution_count": 25,
     "metadata": {},
     "output_type": "execute_result"
    }
   ],
   "source": [
    "data"
   ]
  },
  {
   "cell_type": "code",
   "execution_count": 24,
   "id": "bfd08d46-df88-43f2-a358-d08f835a1dd6",
   "metadata": {},
   "outputs": [
    {
     "data": {
      "text/plain": [
       "array([[2],\n",
       "       [3],\n",
       "       [1]])"
      ]
     },
     "execution_count": 24,
     "metadata": {},
     "output_type": "execute_result"
    }
   ],
   "source": [
    "np.roll(data, 2)"
   ]
  },
  {
   "cell_type": "code",
   "execution_count": 26,
   "id": "c8fd7710-e25f-49c6-8e1d-9fb2ebde2403",
   "metadata": {},
   "outputs": [
    {
     "data": {
      "text/plain": [
       "array([[1, 0, 0, 0],\n",
       "       [0, 2, 0, 0],\n",
       "       [0, 0, 3, 0],\n",
       "       [0, 0, 0, 4]])"
      ]
     },
     "execution_count": 26,
     "metadata": {},
     "output_type": "execute_result"
    }
   ],
   "source": [
    "np.diag(np.array([1,2,3,4]))  # Extract a diagonal or construct a diagonal array."
   ]
  },
  {
   "cell_type": "markdown",
   "id": "2083d13a-061c-4add-9e29-cc3350f83c58",
   "metadata": {},
   "source": [
    "### Numpy - Binary Operators."
   ]
  },
  {
   "cell_type": "code",
   "execution_count": 27,
   "id": "7d2c0442-7924-472c-906b-53e5ed0eeb8f",
   "metadata": {},
   "outputs": [],
   "source": [
    "arr1 = np.random.randint(1,10 , (3,4))\n",
    "arr2 = np.random.randint(1,10 , (3,4))"
   ]
  },
  {
   "cell_type": "code",
   "execution_count": 28,
   "id": "686d6144-5a59-48e6-bc46-da80f0890097",
   "metadata": {},
   "outputs": [
    {
     "data": {
      "text/plain": [
       "array([[1, 5, 5, 9],\n",
       "       [5, 9, 5, 3],\n",
       "       [5, 1, 9, 9]])"
      ]
     },
     "execution_count": 28,
     "metadata": {},
     "output_type": "execute_result"
    }
   ],
   "source": [
    "arr1"
   ]
  },
  {
   "cell_type": "code",
   "execution_count": 29,
   "id": "f7184f33-1141-4608-a7dd-2669b493b7ea",
   "metadata": {},
   "outputs": [
    {
     "data": {
      "text/plain": [
       "array([[1, 4, 1, 4],\n",
       "       [4, 6, 6, 2],\n",
       "       [6, 6, 6, 3]])"
      ]
     },
     "execution_count": 29,
     "metadata": {},
     "output_type": "execute_result"
    }
   ],
   "source": [
    "arr2"
   ]
  },
  {
   "cell_type": "code",
   "execution_count": 32,
   "id": "2c13d7e8-dd71-4d42-8b01-8598e43c118e",
   "metadata": {},
   "outputs": [
    {
     "data": {
      "text/plain": [
       "array([[ 2,  9,  6, 13],\n",
       "       [ 9, 15, 11,  5],\n",
       "       [11,  7, 15, 12]])"
      ]
     },
     "execution_count": 32,
     "metadata": {},
     "output_type": "execute_result"
    }
   ],
   "source": [
    "arr1 + arr2 # # element wise addition"
   ]
  },
  {
   "cell_type": "code",
   "execution_count": 33,
   "id": "9277bcce-5cfe-4de0-bab4-4507e9d37e61",
   "metadata": {},
   "outputs": [
    {
     "data": {
      "text/plain": [
       "array([[ 1, 20,  5, 36],\n",
       "       [20, 54, 30,  6],\n",
       "       [30,  6, 54, 27]])"
      ]
     },
     "execution_count": 33,
     "metadata": {},
     "output_type": "execute_result"
    }
   ],
   "source": [
    "arr1*arr2  # element wise multiplication"
   ]
  },
  {
   "cell_type": "code",
   "execution_count": 34,
   "id": "06c52731-8c9c-4f0e-a89e-4b1a23c95547",
   "metadata": {},
   "outputs": [
    {
     "data": {
      "text/plain": [
       "array([[1.        , 1.25      , 5.        , 2.25      ],\n",
       "       [1.25      , 1.5       , 0.83333333, 1.5       ],\n",
       "       [0.83333333, 0.16666667, 1.5       , 3.        ]])"
      ]
     },
     "execution_count": 34,
     "metadata": {},
     "output_type": "execute_result"
    }
   ],
   "source": [
    "arr1 / arr2  # element wise division"
   ]
  },
  {
   "cell_type": "code",
   "execution_count": 35,
   "id": "10669d7b-f427-4cc0-888a-debda151901d",
   "metadata": {},
   "outputs": [
    {
     "data": {
      "text/plain": [
       "array([[ 0,  1,  4,  5],\n",
       "       [ 1,  3, -1,  1],\n",
       "       [-1, -5,  3,  6]])"
      ]
     },
     "execution_count": 35,
     "metadata": {},
     "output_type": "execute_result"
    }
   ],
   "source": [
    "arr1 - arr2 # element wise substraction"
   ]
  },
  {
   "cell_type": "code",
   "execution_count": 36,
   "id": "a255e63a-149c-493a-bbcf-9a17e04a362b",
   "metadata": {},
   "outputs": [
    {
     "data": {
      "text/plain": [
       "array([[     1,    625,      5,   6561],\n",
       "       [   625, 531441,  15625,      9],\n",
       "       [ 15625,      1, 531441,    729]])"
      ]
     },
     "execution_count": 36,
     "metadata": {},
     "output_type": "execute_result"
    }
   ],
   "source": [
    "arr1 ** arr2  # element wise rise to power"
   ]
  },
  {
   "cell_type": "code",
   "execution_count": 39,
   "id": "a8d0092b-258a-49cb-9c5c-6fb9d1dcb1cd",
   "metadata": {},
   "outputs": [
    {
     "data": {
      "text/plain": [
       "array([[ -2,  -6,  -6, -10],\n",
       "       [ -6, -10,  -6,  -4],\n",
       "       [ -6,  -2, -10, -10]])"
      ]
     },
     "execution_count": 39,
     "metadata": {},
     "output_type": "execute_result"
    }
   ],
   "source": [
    "# bitwise negation\n",
    "~arr1"
   ]
  },
  {
   "cell_type": "code",
   "execution_count": 38,
   "id": "206e1e19-c74e-4f86-a605-2bceeacd1051",
   "metadata": {},
   "outputs": [
    {
     "data": {
      "text/plain": [
       "array([[1, 5, 5, 9],\n",
       "       [5, 9, 5, 3],\n",
       "       [5, 1, 9, 9]])"
      ]
     },
     "execution_count": 38,
     "metadata": {},
     "output_type": "execute_result"
    }
   ],
   "source": [
    "arr1"
   ]
  },
  {
   "cell_type": "code",
   "execution_count": 40,
   "id": "37833bc9-26cb-49b7-8ce6-f3ba854785ba",
   "metadata": {},
   "outputs": [
    {
     "data": {
      "text/plain": [
       "array([[False,  True,  True,  True],\n",
       "       [ True,  True, False,  True],\n",
       "       [False, False,  True,  True]])"
      ]
     },
     "execution_count": 40,
     "metadata": {},
     "output_type": "execute_result"
    }
   ],
   "source": [
    "arr1 > arr2"
   ]
  },
  {
   "cell_type": "markdown",
   "id": "a9832c9a-467a-47a4-b219-eb2eb8701f89",
   "metadata": {},
   "source": [
    "### Numpy - String Functions."
   ]
  },
  {
   "cell_type": "code",
   "execution_count": 41,
   "id": "b4501998-fd74-44c0-ad15-eea86594d722",
   "metadata": {},
   "outputs": [],
   "source": [
    "arr = np.array([\"sudh\" , \"kumar\"])"
   ]
  },
  {
   "cell_type": "code",
   "execution_count": 42,
   "id": "0b069c18-d0c8-4b16-8439-93236df3b7be",
   "metadata": {},
   "outputs": [
    {
     "data": {
      "text/plain": [
       "array(['sudh', 'kumar'], dtype='<U5')"
      ]
     },
     "execution_count": 42,
     "metadata": {},
     "output_type": "execute_result"
    }
   ],
   "source": [
    "arr"
   ]
  },
  {
   "cell_type": "code",
   "execution_count": 43,
   "id": "112f43fb-b9d0-491c-8915-f6c653ed7a9a",
   "metadata": {},
   "outputs": [
    {
     "data": {
      "text/plain": [
       "array(['SUDH', 'KUMAR'], dtype='<U5')"
      ]
     },
     "execution_count": 43,
     "metadata": {},
     "output_type": "execute_result"
    }
   ],
   "source": [
    "np.char.upper(arr)"
   ]
  },
  {
   "cell_type": "code",
   "execution_count": 44,
   "id": "9ddf83b2-4c6b-47a9-b19f-a969bb8b6548",
   "metadata": {},
   "outputs": [
    {
     "data": {
      "text/plain": [
       "array(['Sudh', 'Kumar'], dtype='<U5')"
      ]
     },
     "execution_count": 44,
     "metadata": {},
     "output_type": "execute_result"
    }
   ],
   "source": [
    "np.char.capitalize(arr)"
   ]
  },
  {
   "cell_type": "code",
   "execution_count": 45,
   "id": "d2ebe42f-4b30-4357-b769-4d0cc9de72fd",
   "metadata": {},
   "outputs": [
    {
     "data": {
      "text/plain": [
       "array(['Sudh', 'Kumar'], dtype='<U5')"
      ]
     },
     "execution_count": 45,
     "metadata": {},
     "output_type": "execute_result"
    }
   ],
   "source": [
    "np.char.title(arr)"
   ]
  },
  {
   "cell_type": "markdown",
   "id": "d697adcc-c568-435e-865f-00e77ee11a3c",
   "metadata": {},
   "source": [
    "### Numpy - Mathematical Functions."
   ]
  },
  {
   "cell_type": "code",
   "execution_count": 46,
   "id": "f3a58781-b1ce-4891-8b1b-f042dd1d204d",
   "metadata": {},
   "outputs": [
    {
     "data": {
      "text/plain": [
       "array([[1, 5, 5, 9],\n",
       "       [5, 9, 5, 3],\n",
       "       [5, 1, 9, 9]])"
      ]
     },
     "execution_count": 46,
     "metadata": {},
     "output_type": "execute_result"
    }
   ],
   "source": [
    "arr1"
   ]
  },
  {
   "cell_type": "code",
   "execution_count": 47,
   "id": "2d6ccca5-0fa6-44bd-9d73-3e3e06793f86",
   "metadata": {},
   "outputs": [
    {
     "data": {
      "text/plain": [
       "array([[ 0.84147098, -0.95892427, -0.95892427,  0.41211849],\n",
       "       [-0.95892427,  0.41211849, -0.95892427,  0.14112001],\n",
       "       [-0.95892427,  0.84147098,  0.41211849,  0.41211849]])"
      ]
     },
     "execution_count": 47,
     "metadata": {},
     "output_type": "execute_result"
    }
   ],
   "source": [
    "np.sin(arr1)"
   ]
  },
  {
   "cell_type": "code",
   "execution_count": 48,
   "id": "808a4a16-1ae5-47bc-bfb5-efb89c2d4454",
   "metadata": {},
   "outputs": [
    {
     "data": {
      "text/plain": [
       "array([[ 0.54030231,  0.28366219,  0.28366219, -0.91113026],\n",
       "       [ 0.28366219, -0.91113026,  0.28366219, -0.9899925 ],\n",
       "       [ 0.28366219,  0.54030231, -0.91113026, -0.91113026]])"
      ]
     },
     "execution_count": 48,
     "metadata": {},
     "output_type": "execute_result"
    }
   ],
   "source": [
    "np.cos(arr1)"
   ]
  },
  {
   "cell_type": "code",
   "execution_count": 49,
   "id": "6bc4a0f4-b6d6-4392-8d05-0bfa17556705",
   "metadata": {},
   "outputs": [
    {
     "data": {
      "text/plain": [
       "array([[ 1.55740772, -3.38051501, -3.38051501, -0.45231566],\n",
       "       [-3.38051501, -0.45231566, -3.38051501, -0.14254654],\n",
       "       [-3.38051501,  1.55740772, -0.45231566, -0.45231566]])"
      ]
     },
     "execution_count": 49,
     "metadata": {},
     "output_type": "execute_result"
    }
   ],
   "source": [
    "np.tan(arr1)"
   ]
  },
  {
   "cell_type": "code",
   "execution_count": 50,
   "id": "fc2a6566-5a4b-461f-821d-f1c2e4baacbb",
   "metadata": {},
   "outputs": [
    {
     "data": {
      "text/plain": [
       "array([[0.        , 0.69897   , 0.69897   , 0.95424251],\n",
       "       [0.69897   , 0.95424251, 0.69897   , 0.47712125],\n",
       "       [0.69897   , 0.        , 0.95424251, 0.95424251]])"
      ]
     },
     "execution_count": 50,
     "metadata": {},
     "output_type": "execute_result"
    }
   ],
   "source": [
    "np.log10(arr1)"
   ]
  },
  {
   "cell_type": "code",
   "execution_count": 51,
   "id": "e7eadbbc-7310-47c0-a957-9f0a4f6c85d0",
   "metadata": {},
   "outputs": [
    {
     "data": {
      "text/plain": [
       "array([[2.71828183e+00, 1.48413159e+02, 1.48413159e+02, 8.10308393e+03],\n",
       "       [1.48413159e+02, 8.10308393e+03, 1.48413159e+02, 2.00855369e+01],\n",
       "       [1.48413159e+02, 2.71828183e+00, 8.10308393e+03, 8.10308393e+03]])"
      ]
     },
     "execution_count": 51,
     "metadata": {},
     "output_type": "execute_result"
    }
   ],
   "source": [
    "np.exp(arr1)"
   ]
  },
  {
   "cell_type": "code",
   "execution_count": 52,
   "id": "b23dba9a-b895-427f-b295-9ba57a73e145",
   "metadata": {},
   "outputs": [
    {
     "data": {
      "text/plain": [
       "array([[ 1, 25, 25, 81],\n",
       "       [25, 81, 25,  9],\n",
       "       [25,  1, 81, 81]])"
      ]
     },
     "execution_count": 52,
     "metadata": {},
     "output_type": "execute_result"
    }
   ],
   "source": [
    "np.power(arr1, 2)"
   ]
  },
  {
   "cell_type": "code",
   "execution_count": 53,
   "id": "a6288dfe-cb4b-48a1-9134-36e5f43465f9",
   "metadata": {},
   "outputs": [
    {
     "data": {
      "text/plain": [
       "5.5"
      ]
     },
     "execution_count": 53,
     "metadata": {},
     "output_type": "execute_result"
    }
   ],
   "source": [
    "np.mean(arr1)"
   ]
  },
  {
   "cell_type": "code",
   "execution_count": 54,
   "id": "ce43b2ed-da68-4fbd-9a83-ade79b4e55ef",
   "metadata": {},
   "outputs": [
    {
     "data": {
      "text/plain": [
       "5.0"
      ]
     },
     "execution_count": 54,
     "metadata": {},
     "output_type": "execute_result"
    }
   ],
   "source": [
    "np.median(arr1)"
   ]
  },
  {
   "cell_type": "code",
   "execution_count": 55,
   "id": "1dc4f0a7-ab98-44ab-9f10-bf945f7ee2ea",
   "metadata": {},
   "outputs": [
    {
     "data": {
      "text/plain": [
       "2.8431203515386634"
      ]
     },
     "execution_count": 55,
     "metadata": {},
     "output_type": "execute_result"
    }
   ],
   "source": [
    "np.std(arr1)"
   ]
  },
  {
   "cell_type": "code",
   "execution_count": 56,
   "id": "11c21dbc-eac6-4021-b043-3536f6ec1a30",
   "metadata": {},
   "outputs": [
    {
     "data": {
      "text/plain": [
       "8.083333333333334"
      ]
     },
     "execution_count": 56,
     "metadata": {},
     "output_type": "execute_result"
    }
   ],
   "source": [
    "np.var(arr1)"
   ]
  },
  {
   "cell_type": "code",
   "execution_count": 57,
   "id": "f797b690-4668-4bd8-82d0-44bf0fd67333",
   "metadata": {},
   "outputs": [
    {
     "data": {
      "text/plain": [
       "1"
      ]
     },
     "execution_count": 57,
     "metadata": {},
     "output_type": "execute_result"
    }
   ],
   "source": [
    "np.min(arr1)"
   ]
  },
  {
   "cell_type": "code",
   "execution_count": 58,
   "id": "24c344d0-3343-4613-b6e8-bed1e207780b",
   "metadata": {},
   "outputs": [
    {
     "data": {
      "text/plain": [
       "9"
      ]
     },
     "execution_count": 58,
     "metadata": {},
     "output_type": "execute_result"
    }
   ],
   "source": [
    "np.max(arr1)"
   ]
  },
  {
   "cell_type": "markdown",
   "id": "7f37221b-cb56-4195-91d3-991828028710",
   "metadata": {},
   "source": [
    "### #Numpy - Arithmetic Operations."
   ]
  },
  {
   "cell_type": "code",
   "execution_count": 59,
   "id": "720ab78e-b5ff-4d4f-b66a-3960fc75fee0",
   "metadata": {},
   "outputs": [
    {
     "data": {
      "text/plain": [
       "array([[1, 5, 5, 9],\n",
       "       [5, 9, 5, 3],\n",
       "       [5, 1, 9, 9]])"
      ]
     },
     "execution_count": 59,
     "metadata": {},
     "output_type": "execute_result"
    }
   ],
   "source": [
    "arr1"
   ]
  },
  {
   "cell_type": "code",
   "execution_count": 60,
   "id": "db71197d-1602-4d9a-abc3-80198046d65a",
   "metadata": {},
   "outputs": [
    {
     "data": {
      "text/plain": [
       "array([[1, 4, 1, 4],\n",
       "       [4, 6, 6, 2],\n",
       "       [6, 6, 6, 3]])"
      ]
     },
     "execution_count": 60,
     "metadata": {},
     "output_type": "execute_result"
    }
   ],
   "source": [
    "arr2"
   ]
  },
  {
   "cell_type": "code",
   "execution_count": 61,
   "id": "9d12391f-7fd8-4243-b7f9-7b46a6075411",
   "metadata": {},
   "outputs": [
    {
     "data": {
      "text/plain": [
       "array([[ 0,  1,  4,  5],\n",
       "       [ 1,  3, -1,  1],\n",
       "       [-1, -5,  3,  6]])"
      ]
     },
     "execution_count": 61,
     "metadata": {},
     "output_type": "execute_result"
    }
   ],
   "source": [
    "arr1 - arr2"
   ]
  },
  {
   "cell_type": "code",
   "execution_count": 62,
   "id": "cb2243a8-b580-4085-87f0-20771d311702",
   "metadata": {},
   "outputs": [
    {
     "data": {
      "text/plain": [
       "array([[ 0,  1,  4,  5],\n",
       "       [ 1,  3, -1,  1],\n",
       "       [-1, -5,  3,  6]])"
      ]
     },
     "execution_count": 62,
     "metadata": {},
     "output_type": "execute_result"
    }
   ],
   "source": [
    "np.subtract(arr1, arr2)"
   ]
  },
  {
   "cell_type": "code",
   "execution_count": 63,
   "id": "d80a7993-9696-4976-b915-f799ed8f7a2d",
   "metadata": {},
   "outputs": [
    {
     "data": {
      "text/plain": [
       "array([[ 1, 20,  5, 36],\n",
       "       [20, 54, 30,  6],\n",
       "       [30,  6, 54, 27]])"
      ]
     },
     "execution_count": 63,
     "metadata": {},
     "output_type": "execute_result"
    }
   ],
   "source": [
    "np.multiply(arr1, arr2)"
   ]
  },
  {
   "cell_type": "code",
   "execution_count": 64,
   "id": "05169f0d-a350-40aa-8b4a-51744851f0ab",
   "metadata": {},
   "outputs": [
    {
     "data": {
      "text/plain": [
       "array([[0, 1, 0, 1],\n",
       "       [1, 3, 5, 1],\n",
       "       [5, 1, 3, 0]])"
      ]
     },
     "execution_count": 64,
     "metadata": {},
     "output_type": "execute_result"
    }
   ],
   "source": [
    "np.mod(arr1, arr2)"
   ]
  },
  {
   "cell_type": "code",
   "execution_count": 65,
   "id": "2ea48090-b9ba-46db-8a10-3572368a7085",
   "metadata": {},
   "outputs": [
    {
     "data": {
      "text/plain": [
       "array([[     1,    625,      5,   6561],\n",
       "       [   625, 531441,  15625,      9],\n",
       "       [ 15625,      1, 531441,    729]])"
      ]
     },
     "execution_count": 65,
     "metadata": {},
     "output_type": "execute_result"
    }
   ],
   "source": [
    "np.power(arr1, arr2)"
   ]
  },
  {
   "cell_type": "code",
   "execution_count": 66,
   "id": "62c98fff-f133-4f13-a2bf-ef9fd7814b26",
   "metadata": {},
   "outputs": [
    {
     "data": {
      "text/plain": [
       "array([[1.        , 2.23606798, 2.23606798, 3.        ],\n",
       "       [2.23606798, 3.        , 2.23606798, 1.73205081],\n",
       "       [2.23606798, 1.        , 3.        , 3.        ]])"
      ]
     },
     "execution_count": 66,
     "metadata": {},
     "output_type": "execute_result"
    }
   ],
   "source": [
    "np.sqrt(arr1)"
   ]
  },
  {
   "cell_type": "markdown",
   "id": "2b7c1a1d-3f71-4e86-8983-bba1d65c3cf5",
   "metadata": {},
   "source": [
    "### Numpy - Statistical Functions."
   ]
  },
  {
   "cell_type": "code",
   "execution_count": 67,
   "id": "7a57593f-fac1-4d34-9d6c-7e999b1f4345",
   "metadata": {},
   "outputs": [
    {
     "data": {
      "text/plain": [
       "array([[1, 5, 5, 9],\n",
       "       [5, 9, 5, 3],\n",
       "       [5, 1, 9, 9]])"
      ]
     },
     "execution_count": 67,
     "metadata": {},
     "output_type": "execute_result"
    }
   ],
   "source": [
    "arr1"
   ]
  },
  {
   "cell_type": "code",
   "execution_count": 68,
   "id": "acba0806-8f35-4d44-8167-5d887281f776",
   "metadata": {},
   "outputs": [
    {
     "data": {
      "text/plain": [
       "5.5"
      ]
     },
     "execution_count": 68,
     "metadata": {},
     "output_type": "execute_result"
    }
   ],
   "source": [
    "np.mean(arr1)"
   ]
  },
  {
   "cell_type": "code",
   "execution_count": 69,
   "id": "31acc237-f4b4-483e-9255-bfe5b1315eee",
   "metadata": {},
   "outputs": [
    {
     "data": {
      "text/plain": [
       "2.8431203515386634"
      ]
     },
     "execution_count": 69,
     "metadata": {},
     "output_type": "execute_result"
    }
   ],
   "source": [
    "np.std(arr1)"
   ]
  },
  {
   "cell_type": "code",
   "execution_count": 70,
   "id": "92e0a246-6730-4ecc-9a6d-0514f4a66848",
   "metadata": {},
   "outputs": [
    {
     "data": {
      "text/plain": [
       "5.0"
      ]
     },
     "execution_count": 70,
     "metadata": {},
     "output_type": "execute_result"
    }
   ],
   "source": [
    "np.median(arr1)"
   ]
  },
  {
   "cell_type": "code",
   "execution_count": null,
   "id": "b5adbfc7-f77b-4ff5-9805-05a321aa5bed",
   "metadata": {},
   "outputs": [],
   "source": []
  }
 ],
 "metadata": {
  "kernelspec": {
   "display_name": "Python 3 (ipykernel)",
   "language": "python",
   "name": "python3"
  },
  "language_info": {
   "codemirror_mode": {
    "name": "ipython",
    "version": 3
   },
   "file_extension": ".py",
   "mimetype": "text/x-python",
   "name": "python",
   "nbconvert_exporter": "python",
   "pygments_lexer": "ipython3",
   "version": "3.10.8"
  }
 },
 "nbformat": 4,
 "nbformat_minor": 5
}
