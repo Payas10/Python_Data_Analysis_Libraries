{
 "cells": [
  {
   "cell_type": "markdown",
   "id": "a773ab9d-3160-4934-8183-144ec3139da9",
   "metadata": {},
   "source": [
    "# NumPy - Part - 4"
   ]
  },
  {
   "cell_type": "code",
   "execution_count": 1,
   "id": "9b133dd8-0590-4928-8b1c-1e04aa5a4ee4",
   "metadata": {},
   "outputs": [],
   "source": [
    "import numpy as np"
   ]
  },
  {
   "cell_type": "markdown",
   "id": "b67696dd-95d3-4383-95a6-8bd0b98fda05",
   "metadata": {},
   "source": [
    "### Sort, Search & Counting Functions."
   ]
  },
  {
   "cell_type": "code",
   "execution_count": 2,
   "id": "2cf47238-67bd-4747-935e-2146e9e7110d",
   "metadata": {},
   "outputs": [],
   "source": [
    "arr = np.array([4,2,8,5,3,9,12,56])"
   ]
  },
  {
   "cell_type": "code",
   "execution_count": 3,
   "id": "c3fb2073-008c-4bf8-b7fa-86849953d22a",
   "metadata": {},
   "outputs": [
    {
     "data": {
      "text/plain": [
       "array([ 4,  2,  8,  5,  3,  9, 12, 56])"
      ]
     },
     "execution_count": 3,
     "metadata": {},
     "output_type": "execute_result"
    }
   ],
   "source": [
    "arr"
   ]
  },
  {
   "cell_type": "code",
   "execution_count": 4,
   "id": "71096c25-adbf-43c8-9a44-8376546a748c",
   "metadata": {},
   "outputs": [
    {
     "data": {
      "text/plain": [
       "array([ 2,  3,  4,  5,  8,  9, 12, 56])"
      ]
     },
     "execution_count": 4,
     "metadata": {},
     "output_type": "execute_result"
    }
   ],
   "source": [
    "np.sort(arr)"
   ]
  },
  {
   "cell_type": "code",
   "execution_count": 6,
   "id": "9484389f-c933-44a6-98a9-eb6355eb6fc1",
   "metadata": {},
   "outputs": [
    {
     "data": {
      "text/plain": [
       "5"
      ]
     },
     "execution_count": 6,
     "metadata": {},
     "output_type": "execute_result"
    }
   ],
   "source": [
    "np.searchsorted(arr,6)  # Find indices where elements should be inserted to maintain sorted order."
   ]
  },
  {
   "cell_type": "code",
   "execution_count": 7,
   "id": "fc1fc61f-466a-483e-92ca-1dce70943991",
   "metadata": {},
   "outputs": [],
   "source": [
    "arr1 = np.array([0,324,645,65,6,6,0,0,0,234])"
   ]
  },
  {
   "cell_type": "code",
   "execution_count": 8,
   "id": "7076d145-8dd9-4884-9c97-86597a41a9ef",
   "metadata": {},
   "outputs": [
    {
     "data": {
      "text/plain": [
       "array([  0, 324, 645,  65,   6,   6,   0,   0,   0, 234])"
      ]
     },
     "execution_count": 8,
     "metadata": {},
     "output_type": "execute_result"
    }
   ],
   "source": [
    "arr1"
   ]
  },
  {
   "cell_type": "code",
   "execution_count": 9,
   "id": "d03236b7-53c4-4df3-b705-bafda9d11f8a",
   "metadata": {},
   "outputs": [
    {
     "data": {
      "text/plain": [
       "6"
      ]
     },
     "execution_count": 9,
     "metadata": {},
     "output_type": "execute_result"
    }
   ],
   "source": [
    "np.count_nonzero(arr1)"
   ]
  },
  {
   "cell_type": "code",
   "execution_count": 11,
   "id": "6f64ce41-9117-4fd8-a90c-ce456c2c8c23",
   "metadata": {},
   "outputs": [
    {
     "data": {
      "text/plain": [
       "(array([1, 2, 3, 4, 5, 9]),)"
      ]
     },
     "execution_count": 11,
     "metadata": {},
     "output_type": "execute_result"
    }
   ],
   "source": [
    "np.where(arr1 > 0) # returns index for array 1 where elements are greater than zero"
   ]
  },
  {
   "cell_type": "code",
   "execution_count": 12,
   "id": "d3cbb589-7a64-402b-8b01-6c94e1626f04",
   "metadata": {},
   "outputs": [
    {
     "data": {
      "text/plain": [
       "array([324, 645,  65,   6,   6, 234])"
      ]
     },
     "execution_count": 12,
     "metadata": {},
     "output_type": "execute_result"
    }
   ],
   "source": [
    "np.extract(arr1 > 2, arr1)  \n",
    "# Return the elements of an array arr1 that satisfy arr1 > 2 condition.\n",
    "# i.e returns elemets of arr1 which are greater than 2"
   ]
  },
  {
   "cell_type": "markdown",
   "id": "194834a2-1119-4734-b74c-295b3b6932bd",
   "metadata": {},
   "source": [
    "### Numpy - Byte Swapping."
   ]
  },
  {
   "cell_type": "code",
   "execution_count": 13,
   "id": "88549f29-0343-4de8-af7d-f9b531c32633",
   "metadata": {},
   "outputs": [
    {
     "data": {
      "text/plain": [
       "array([  0, 324, 645,  65,   6,   6,   0,   0,   0, 234])"
      ]
     },
     "execution_count": 13,
     "metadata": {},
     "output_type": "execute_result"
    }
   ],
   "source": [
    "arr1"
   ]
  },
  {
   "cell_type": "code",
   "execution_count": 16,
   "id": "89167fa2-2f23-4960-a893-6ffeda9e9c8d",
   "metadata": {},
   "outputs": [
    {
     "data": {
      "text/plain": [
       "array([ 288230376151711744,  144115188075855872,  576460752303423488,\n",
       "        360287970189639680,  216172782113783808,  648518346341351424,\n",
       "        864691128455135232, 4035225266123964416])"
      ]
     },
     "execution_count": 16,
     "metadata": {},
     "output_type": "execute_result"
    }
   ],
   "source": [
    "arr.byteswap(True) \n",
    "# Swap the bytes of the array elements\n",
    "# i.e returns memory byte size/address/location of array element or vice-versa"
   ]
  },
  {
   "cell_type": "code",
   "execution_count": 17,
   "id": "d7b35ee7-f514-46bd-8e41-d7bb3ebab38a",
   "metadata": {},
   "outputs": [
    {
     "data": {
      "text/plain": [
       "array([ 288230376151711744,  144115188075855872,  576460752303423488,\n",
       "        360287970189639680,  216172782113783808,  648518346341351424,\n",
       "        864691128455135232, 4035225266123964416])"
      ]
     },
     "execution_count": 17,
     "metadata": {},
     "output_type": "execute_result"
    }
   ],
   "source": [
    "arr"
   ]
  },
  {
   "cell_type": "code",
   "execution_count": 18,
   "id": "1f03d85b-2f06-4428-81a9-cdf46993be20",
   "metadata": {},
   "outputs": [
    {
     "data": {
      "text/plain": [
       "array([ 4,  2,  8,  5,  3,  9, 12, 56])"
      ]
     },
     "execution_count": 18,
     "metadata": {},
     "output_type": "execute_result"
    }
   ],
   "source": [
    "arr.byteswap(True) "
   ]
  },
  {
   "cell_type": "code",
   "execution_count": 19,
   "id": "d34b7be0-b3a5-477b-b66e-bbf1e9be13de",
   "metadata": {},
   "outputs": [
    {
     "data": {
      "text/plain": [
       "array([ 4,  2,  8,  5,  3,  9, 12, 56])"
      ]
     },
     "execution_count": 19,
     "metadata": {},
     "output_type": "execute_result"
    }
   ],
   "source": [
    "arr"
   ]
  },
  {
   "cell_type": "markdown",
   "id": "0a9a9d6f-f432-4dcb-aa94-1407b3142e2f",
   "metadata": {},
   "source": [
    "### Numpy - Copies & Views."
   ]
  },
  {
   "cell_type": "code",
   "execution_count": 20,
   "id": "c88d56cf-b17c-4fd7-8aa1-265613f94b3b",
   "metadata": {},
   "outputs": [
    {
     "data": {
      "text/plain": [
       "array([  0, 324, 645,  65,   6,   6,   0,   0,   0, 234])"
      ]
     },
     "execution_count": 20,
     "metadata": {},
     "output_type": "execute_result"
    }
   ],
   "source": [
    "arr1"
   ]
  },
  {
   "cell_type": "code",
   "execution_count": 21,
   "id": "75698950-9d78-475a-9eda-c8e485e94d8a",
   "metadata": {},
   "outputs": [],
   "source": [
    "a = np.copy(arr1)  # deep copy"
   ]
  },
  {
   "cell_type": "code",
   "execution_count": 22,
   "id": "44536c0f-2157-4a33-8da5-bae345092db4",
   "metadata": {},
   "outputs": [],
   "source": [
    "arr1[0] = 10"
   ]
  },
  {
   "cell_type": "code",
   "execution_count": 23,
   "id": "2c77c62f-8e15-4bf5-893b-ecbeb7d3b661",
   "metadata": {},
   "outputs": [
    {
     "data": {
      "text/plain": [
       "array([ 10, 324, 645,  65,   6,   6,   0,   0,   0, 234])"
      ]
     },
     "execution_count": 23,
     "metadata": {},
     "output_type": "execute_result"
    }
   ],
   "source": [
    "arr1"
   ]
  },
  {
   "cell_type": "code",
   "execution_count": 24,
   "id": "5768c6d5-fa6c-4399-9290-6255b36f6502",
   "metadata": {},
   "outputs": [
    {
     "data": {
      "text/plain": [
       "array([  0, 324, 645,  65,   6,   6,   0,   0,   0, 234])"
      ]
     },
     "execution_count": 24,
     "metadata": {},
     "output_type": "execute_result"
    }
   ],
   "source": [
    "a"
   ]
  },
  {
   "cell_type": "code",
   "execution_count": 32,
   "id": "12d4d3e8-497f-4a5d-a396-28ca724bcac1",
   "metadata": {},
   "outputs": [],
   "source": [
    "b = arr1.view()  # same as b = arr1\n",
    "\n",
    "# sollow copy\n",
    "# equivalent to b = arr1"
   ]
  },
  {
   "cell_type": "code",
   "execution_count": 26,
   "id": "cb352595-af38-494b-aef4-7551fb0b4a3f",
   "metadata": {},
   "outputs": [
    {
     "data": {
      "text/plain": [
       "array([ 10, 324, 645,  65,   6,   6,   0,   0,   0, 234])"
      ]
     },
     "execution_count": 26,
     "metadata": {},
     "output_type": "execute_result"
    }
   ],
   "source": [
    "b"
   ]
  },
  {
   "cell_type": "code",
   "execution_count": 29,
   "id": "65b3940d-1832-43d7-a77b-a28366780e64",
   "metadata": {},
   "outputs": [],
   "source": [
    "arr1[0] = 0"
   ]
  },
  {
   "cell_type": "code",
   "execution_count": 30,
   "id": "6a8e0e2d-e3d4-4992-bf67-d3590034c61d",
   "metadata": {},
   "outputs": [
    {
     "data": {
      "text/plain": [
       "array([  0, 324, 645,  65,   6,   6,   0,   0,   0, 234])"
      ]
     },
     "execution_count": 30,
     "metadata": {},
     "output_type": "execute_result"
    }
   ],
   "source": [
    "arr1"
   ]
  },
  {
   "cell_type": "code",
   "execution_count": 31,
   "id": "2c671826-781b-46ee-90a1-cdc184984acc",
   "metadata": {},
   "outputs": [
    {
     "data": {
      "text/plain": [
       "array([  0, 324, 645,  65,   6,   6,   0,   0,   0, 234])"
      ]
     },
     "execution_count": 31,
     "metadata": {},
     "output_type": "execute_result"
    }
   ],
   "source": [
    "b"
   ]
  },
  {
   "cell_type": "markdown",
   "id": "6cb144ba-5dae-4de2-a18d-e62ee34f6c2a",
   "metadata": {},
   "source": [
    "### Numpy - Matrix Library. - matlib"
   ]
  },
  {
   "cell_type": "code",
   "execution_count": 33,
   "id": "83f90827-6df9-4672-bdba-39ba481083b9",
   "metadata": {},
   "outputs": [],
   "source": [
    "import numpy.matlib as nm"
   ]
  },
  {
   "cell_type": "code",
   "execution_count": 34,
   "id": "1fff5a87-9549-4c7f-8529-3de877b53590",
   "metadata": {},
   "outputs": [
    {
     "data": {
      "text/plain": [
       "matrix([[0., 0., 0., 0., 0.]])"
      ]
     },
     "execution_count": 34,
     "metadata": {},
     "output_type": "execute_result"
    }
   ],
   "source": [
    "nm.zeros(5)"
   ]
  },
  {
   "cell_type": "code",
   "execution_count": 35,
   "id": "70b84320-7e0e-4f5e-8089-4dc313251ebc",
   "metadata": {},
   "outputs": [
    {
     "data": {
      "text/plain": [
       "matrix([[1., 1., 1., 1., 1.]])"
      ]
     },
     "execution_count": 35,
     "metadata": {},
     "output_type": "execute_result"
    }
   ],
   "source": [
    "nm.ones(5)"
   ]
  },
  {
   "cell_type": "code",
   "execution_count": 36,
   "id": "495bd147-d695-4c17-85ed-a4f13eb47ea0",
   "metadata": {},
   "outputs": [
    {
     "data": {
      "text/plain": [
       "matrix([[1., 1., 1., 1.],\n",
       "        [1., 1., 1., 1.],\n",
       "        [1., 1., 1., 1.]])"
      ]
     },
     "execution_count": 36,
     "metadata": {},
     "output_type": "execute_result"
    }
   ],
   "source": [
    "nm.ones((3,4))"
   ]
  },
  {
   "cell_type": "code",
   "execution_count": 37,
   "id": "531d771a-b33b-482d-82f4-4f79130c3db1",
   "metadata": {},
   "outputs": [
    {
     "data": {
      "text/plain": [
       "matrix([[1., 0., 0., 0.],\n",
       "        [0., 1., 0., 0.],\n",
       "        [0., 0., 1., 0.],\n",
       "        [0., 0., 0., 1.]])"
      ]
     },
     "execution_count": 37,
     "metadata": {},
     "output_type": "execute_result"
    }
   ],
   "source": [
    "nm.eye(4)"
   ]
  },
  {
   "cell_type": "markdown",
   "id": "aaf51b60-215c-4d7a-9c31-5219f9ea96c3",
   "metadata": {},
   "source": [
    "### Numpy - Linear Algebra"
   ]
  },
  {
   "cell_type": "code",
   "execution_count": 39,
   "id": "0c67fc78-763c-4287-b33e-1d527244c6dd",
   "metadata": {},
   "outputs": [],
   "source": [
    "arr1 = np.random.randint([[2,3] , [4,5]])\n",
    "arr2 = np.random.randint([[5,3] , [2,5]])"
   ]
  },
  {
   "cell_type": "code",
   "execution_count": 40,
   "id": "45908da5-62f5-4873-a911-6cd2611933f1",
   "metadata": {},
   "outputs": [
    {
     "data": {
      "text/plain": [
       "array([[0, 2],\n",
       "       [0, 0]])"
      ]
     },
     "execution_count": 40,
     "metadata": {},
     "output_type": "execute_result"
    }
   ],
   "source": [
    "arr1"
   ]
  },
  {
   "cell_type": "code",
   "execution_count": 41,
   "id": "7f80917d-2c3f-4f4d-bfb9-dea9a3c17929",
   "metadata": {},
   "outputs": [
    {
     "data": {
      "text/plain": [
       "array([[4, 2],\n",
       "       [1, 3]])"
      ]
     },
     "execution_count": 41,
     "metadata": {},
     "output_type": "execute_result"
    }
   ],
   "source": [
    "arr2"
   ]
  },
  {
   "cell_type": "code",
   "execution_count": 43,
   "id": "a889f3b0-c6de-4fd3-a5a4-9df20b0f3895",
   "metadata": {},
   "outputs": [
    {
     "data": {
      "text/plain": [
       "array([[2, 6],\n",
       "       [0, 0]])"
      ]
     },
     "execution_count": 43,
     "metadata": {},
     "output_type": "execute_result"
    }
   ],
   "source": [
    "np.dot(arr1, arr2)  # same as matrix multiplication"
   ]
  },
  {
   "cell_type": "code",
   "execution_count": 44,
   "id": "7225207f-a1f4-4c0a-8ca1-db52b00d9ef8",
   "metadata": {},
   "outputs": [
    {
     "data": {
      "text/plain": [
       "array([[2, 6],\n",
       "       [0, 0]])"
      ]
     },
     "execution_count": 44,
     "metadata": {},
     "output_type": "execute_result"
    }
   ],
   "source": [
    "arr1 @ arr2"
   ]
  },
  {
   "cell_type": "code",
   "execution_count": null,
   "id": "7ac7543b-1d72-45be-bb35-7b6264f11643",
   "metadata": {},
   "outputs": [],
   "source": []
  }
 ],
 "metadata": {
  "kernelspec": {
   "display_name": "Python 3 (ipykernel)",
   "language": "python",
   "name": "python3"
  },
  "language_info": {
   "codemirror_mode": {
    "name": "ipython",
    "version": 3
   },
   "file_extension": ".py",
   "mimetype": "text/x-python",
   "name": "python",
   "nbconvert_exporter": "python",
   "pygments_lexer": "ipython3",
   "version": "3.10.8"
  }
 },
 "nbformat": 4,
 "nbformat_minor": 5
}
