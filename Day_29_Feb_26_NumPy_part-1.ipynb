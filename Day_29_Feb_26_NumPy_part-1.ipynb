{
 "cells": [
  {
   "cell_type": "markdown",
   "id": "45da611d-b29e-43a3-89bb-f6f178c26c23",
   "metadata": {},
   "source": [
    "# Feb 26' 23 - NumPy Part-1"
   ]
  },
  {
   "cell_type": "code",
   "execution_count": 1,
   "id": "e25b63de-5157-47ae-ae91-a76164c5f98c",
   "metadata": {},
   "outputs": [],
   "source": [
    "import numpy as np"
   ]
  },
  {
   "cell_type": "code",
   "execution_count": 2,
   "id": "9a9ef088-33b1-4c5e-b97e-de794eda29e7",
   "metadata": {},
   "outputs": [],
   "source": [
    "l = [1,2,3,4,5]"
   ]
  },
  {
   "cell_type": "markdown",
   "id": "be94efdd-974e-4f95-869c-fad902467dde",
   "metadata": {},
   "source": [
    "### creation on Array"
   ]
  },
  {
   "cell_type": "code",
   "execution_count": 3,
   "id": "10020d9f-ef3f-48fe-a1f1-1c4c8eee07de",
   "metadata": {},
   "outputs": [],
   "source": [
    "# to create a numpy array \n",
    "# 1. np.array()\n",
    "arr = np.array(l)"
   ]
  },
  {
   "cell_type": "code",
   "execution_count": 4,
   "id": "5be00e22-43e6-4f89-a4ad-a9a12d9ff650",
   "metadata": {},
   "outputs": [
    {
     "data": {
      "text/plain": [
       "array([1, 2, 3, 4, 5])"
      ]
     },
     "execution_count": 4,
     "metadata": {},
     "output_type": "execute_result"
    }
   ],
   "source": [
    "arr"
   ]
  },
  {
   "cell_type": "code",
   "execution_count": 5,
   "id": "eb1b95ad-6d1e-4e99-8718-5187eda493f7",
   "metadata": {},
   "outputs": [
    {
     "data": {
      "text/plain": [
       "numpy.ndarray"
      ]
     },
     "execution_count": 5,
     "metadata": {},
     "output_type": "execute_result"
    }
   ],
   "source": [
    "type(arr)"
   ]
  },
  {
   "cell_type": "code",
   "execution_count": 7,
   "id": "54ca12bf-505c-44ba-941e-279786ffa2d2",
   "metadata": {},
   "outputs": [
    {
     "data": {
      "text/plain": [
       "array([1, 2, 3, 4, 5])"
      ]
     },
     "execution_count": 7,
     "metadata": {},
     "output_type": "execute_result"
    }
   ],
   "source": [
    "# to create a numpy array \n",
    "# 2. np.asarray()\n",
    "np.asarray(l)"
   ]
  },
  {
   "cell_type": "code",
   "execution_count": 8,
   "id": "c4fefef5-21e3-40c3-9148-f63418d2be01",
   "metadata": {},
   "outputs": [
    {
     "data": {
      "text/plain": [
       "numpy.ndarray"
      ]
     },
     "execution_count": 8,
     "metadata": {},
     "output_type": "execute_result"
    }
   ],
   "source": [
    "type(np.asarray(l))"
   ]
  },
  {
   "cell_type": "code",
   "execution_count": 9,
   "id": "aae23d97-09b3-421c-84c4-ace5fe043d72",
   "metadata": {},
   "outputs": [],
   "source": [
    "# creating two dimensional array\n",
    "arr1 = np.array([[1,2,3] , [2,3,4]])"
   ]
  },
  {
   "cell_type": "code",
   "execution_count": 10,
   "id": "b6dac8e6-0ce4-44c2-bd05-80146f1e6d8b",
   "metadata": {},
   "outputs": [
    {
     "data": {
      "text/plain": [
       "array([[1, 2, 3],\n",
       "       [2, 3, 4]])"
      ]
     },
     "execution_count": 10,
     "metadata": {},
     "output_type": "execute_result"
    }
   ],
   "source": [
    "arr1"
   ]
  },
  {
   "cell_type": "code",
   "execution_count": 11,
   "id": "9b08809e-45bb-4f86-98dc-a24e1c8a42c2",
   "metadata": {},
   "outputs": [
    {
     "data": {
      "text/plain": [
       "1"
      ]
     },
     "execution_count": 11,
     "metadata": {},
     "output_type": "execute_result"
    }
   ],
   "source": [
    "# to check the array dimensions\n",
    "arr.ndim"
   ]
  },
  {
   "cell_type": "code",
   "execution_count": 12,
   "id": "2001fa82-4150-4e69-8125-84b5f15997c9",
   "metadata": {},
   "outputs": [
    {
     "data": {
      "text/plain": [
       "2"
      ]
     },
     "execution_count": 12,
     "metadata": {},
     "output_type": "execute_result"
    }
   ],
   "source": [
    "arr1.ndim"
   ]
  },
  {
   "cell_type": "code",
   "execution_count": 15,
   "id": "f06dba5d-f99d-4900-83a0-0a5592110353",
   "metadata": {},
   "outputs": [],
   "source": [
    "# creating a matrix\n",
    "# matrix is subclass of array class\n",
    "# matrix is one of the type of array\n",
    "mat = np.matrix(l)"
   ]
  },
  {
   "cell_type": "code",
   "execution_count": 16,
   "id": "c62462ba-4e9f-4548-b0ab-015feb654b39",
   "metadata": {},
   "outputs": [
    {
     "data": {
      "text/plain": [
       "matrix([[1, 2, 3, 4, 5]])"
      ]
     },
     "execution_count": 16,
     "metadata": {},
     "output_type": "execute_result"
    }
   ],
   "source": [
    "mat"
   ]
  },
  {
   "cell_type": "code",
   "execution_count": 18,
   "id": "d5e6b1da-ce2b-4afb-af8b-7a0a6d49119a",
   "metadata": {},
   "outputs": [
    {
     "data": {
      "text/plain": [
       "array([1, 2, 3, 4, 5])"
      ]
     },
     "execution_count": 18,
     "metadata": {},
     "output_type": "execute_result"
    }
   ],
   "source": [
    "# asanyarray() - covert an input to array type only if the input is not already an array or any array subtype (e.g matrix)\n",
    "np.asanyarray(l) # passing list variable as an arguement will convert it to array"
   ]
  },
  {
   "cell_type": "code",
   "execution_count": 19,
   "id": "810395ed-712e-43c6-9bc6-f2e9d0fb57e5",
   "metadata": {},
   "outputs": [
    {
     "data": {
      "text/plain": [
       "matrix([[1, 2, 3, 4, 5]])"
      ]
     },
     "execution_count": 19,
     "metadata": {},
     "output_type": "execute_result"
    }
   ],
   "source": [
    "np.asanyarray(mat) # passing an array or its subtype is not going to change anything"
   ]
  },
  {
   "cell_type": "markdown",
   "id": "a5ea0df3-b991-4c64-8ebe-4aa3090439db",
   "metadata": {},
   "source": [
    "### Deep Copy and Sollow Copy"
   ]
  },
  {
   "cell_type": "code",
   "execution_count": 23,
   "id": "ded24750-955a-4685-b7d7-ff36ed228058",
   "metadata": {},
   "outputs": [],
   "source": [
    "a = arr  # sollow copy\n",
    "\n",
    "# In cas of sollow copy no new memory location/address is created\n",
    "# both the variable points to same address\n",
    "# so if chnage is made to the value stored in that location\n",
    "# the change will get reflect for both the variables pointing to that address"
   ]
  },
  {
   "cell_type": "code",
   "execution_count": 21,
   "id": "b9948e81-c33d-49f6-bad9-cec502111942",
   "metadata": {},
   "outputs": [
    {
     "data": {
      "text/plain": [
       "array([1, 2, 3, 4, 5])"
      ]
     },
     "execution_count": 21,
     "metadata": {},
     "output_type": "execute_result"
    }
   ],
   "source": [
    "arr"
   ]
  },
  {
   "cell_type": "code",
   "execution_count": 22,
   "id": "9cca9048-efe5-4f08-b5d2-1c92482f67d3",
   "metadata": {},
   "outputs": [
    {
     "data": {
      "text/plain": [
       "array([1, 2, 3, 4, 5])"
      ]
     },
     "execution_count": 22,
     "metadata": {},
     "output_type": "execute_result"
    }
   ],
   "source": [
    "a"
   ]
  },
  {
   "cell_type": "code",
   "execution_count": 24,
   "id": "9f217716-6f5e-40f8-92c7-f7278df5e128",
   "metadata": {},
   "outputs": [],
   "source": [
    "arr[0] = 100"
   ]
  },
  {
   "cell_type": "code",
   "execution_count": 25,
   "id": "c21e65b4-be13-4906-9626-465c1ff57c8b",
   "metadata": {},
   "outputs": [
    {
     "data": {
      "text/plain": [
       "array([100,   2,   3,   4,   5])"
      ]
     },
     "execution_count": 25,
     "metadata": {},
     "output_type": "execute_result"
    }
   ],
   "source": [
    "arr"
   ]
  },
  {
   "cell_type": "code",
   "execution_count": 26,
   "id": "e62555f3-b7c3-4c44-b58a-ade9d458d9e7",
   "metadata": {},
   "outputs": [
    {
     "data": {
      "text/plain": [
       "array([100,   2,   3,   4,   5])"
      ]
     },
     "execution_count": 26,
     "metadata": {},
     "output_type": "execute_result"
    }
   ],
   "source": [
    "a"
   ]
  },
  {
   "cell_type": "code",
   "execution_count": 27,
   "id": "3cd30993-e588-4dee-b346-09110a02c8de",
   "metadata": {},
   "outputs": [],
   "source": [
    "b = np.copy(arr) # deep copy\n",
    "\n",
    "# In cas of deep copy a new memory location/address is created\n",
    "# both the variable points to different address\n",
    "# so if chnage is made in one variable stored at a location\n",
    "# that change will NOT get reflect other variables \n",
    "# as both variables are pointing to different location/address"
   ]
  },
  {
   "cell_type": "code",
   "execution_count": 28,
   "id": "742b8fef-a731-4cf8-a564-04b4c1355216",
   "metadata": {},
   "outputs": [
    {
     "data": {
      "text/plain": [
       "array([100,   2,   3,   4,   5])"
      ]
     },
     "execution_count": 28,
     "metadata": {},
     "output_type": "execute_result"
    }
   ],
   "source": [
    "arr"
   ]
  },
  {
   "cell_type": "code",
   "execution_count": 29,
   "id": "0333f8ad-0209-4b3a-b175-d497574fba4c",
   "metadata": {},
   "outputs": [
    {
     "data": {
      "text/plain": [
       "array([100,   2,   3,   4,   5])"
      ]
     },
     "execution_count": 29,
     "metadata": {},
     "output_type": "execute_result"
    }
   ],
   "source": [
    "b"
   ]
  },
  {
   "cell_type": "code",
   "execution_count": 30,
   "id": "6a5f021d-b85e-4377-9984-70b323f6c76a",
   "metadata": {},
   "outputs": [],
   "source": [
    "b[0] = 234"
   ]
  },
  {
   "cell_type": "code",
   "execution_count": 31,
   "id": "e90b25ea-d8a7-4f72-8dae-0500a23f81c3",
   "metadata": {},
   "outputs": [
    {
     "data": {
      "text/plain": [
       "array([234,   2,   3,   4,   5])"
      ]
     },
     "execution_count": 31,
     "metadata": {},
     "output_type": "execute_result"
    }
   ],
   "source": [
    "b"
   ]
  },
  {
   "cell_type": "code",
   "execution_count": 32,
   "id": "fa5b8803-1469-4bdc-a23c-86d41d9d442f",
   "metadata": {},
   "outputs": [
    {
     "data": {
      "text/plain": [
       "array([100,   2,   3,   4,   5])"
      ]
     },
     "execution_count": 32,
     "metadata": {},
     "output_type": "execute_result"
    }
   ],
   "source": [
    "arr"
   ]
  },
  {
   "cell_type": "markdown",
   "id": "1998cdab-ccf2-461d-ae71-2dc223924fe1",
   "metadata": {},
   "source": [
    "### Generating an Array"
   ]
  },
  {
   "cell_type": "code",
   "execution_count": 35,
   "id": "b98068bc-f649-4efc-a4d5-32aa6997a1e2",
   "metadata": {},
   "outputs": [
    {
     "data": {
      "text/plain": [
       "array([[ True, False, False],\n",
       "       [False,  True, False],\n",
       "       [False, False,  True]])"
      ]
     },
     "execution_count": 35,
     "metadata": {},
     "output_type": "execute_result"
    }
   ],
   "source": [
    "# np.fromfuntion() takes a function as arguement and generates an array\n",
    "np.fromfunction(lambda i,j : i==j, (3,3))\n",
    "\n",
    "# i=0,1,2 for (3,3) array\n",
    "# j=0,1,2 for (3,3) array\n",
    "# so when i==j i.e 0==0, 1==1, 2==2, it will return True\n",
    "# for everything else it returns False"
   ]
  },
  {
   "cell_type": "code",
   "execution_count": 34,
   "id": "edf56e1d-9ce7-4796-a5ba-a39fc13f089e",
   "metadata": {},
   "outputs": [
    {
     "data": {
      "text/plain": [
       "array([[0., 0., 0.],\n",
       "       [0., 1., 2.],\n",
       "       [0., 2., 4.]])"
      ]
     },
     "execution_count": 34,
     "metadata": {},
     "output_type": "execute_result"
    }
   ],
   "source": [
    "np.fromfunction(lambda i,j : i*j, (3,3))"
   ]
  },
  {
   "cell_type": "code",
   "execution_count": 36,
   "id": "0d54e6be-3d87-44bf-bb96-fe8645109f1e",
   "metadata": {},
   "outputs": [
    {
     "data": {
      "text/plain": [
       "[0, 1, 4, 9, 16]"
      ]
     },
     "execution_count": 36,
     "metadata": {},
     "output_type": "execute_result"
    }
   ],
   "source": [
    "list(i*i for i in range(5))"
   ]
  },
  {
   "cell_type": "code",
   "execution_count": 45,
   "id": "d61866c1-d52d-4604-bda0-7a3d375e4c91",
   "metadata": {},
   "outputs": [],
   "source": [
    "iterable = (i*i for i in range(5))"
   ]
  },
  {
   "cell_type": "code",
   "execution_count": 46,
   "id": "fdecd4e1-2bb1-4bde-a8e8-7ad66a156ac1",
   "metadata": {},
   "outputs": [
    {
     "data": {
      "text/plain": [
       "array([ 0,  1,  4,  9, 16])"
      ]
     },
     "execution_count": 46,
     "metadata": {},
     "output_type": "execute_result"
    }
   ],
   "source": [
    "np.fromiter(iterable, int)"
   ]
  },
  {
   "cell_type": "code",
   "execution_count": 49,
   "id": "740c55b2-9ce0-4efc-949e-24d73981d868",
   "metadata": {},
   "outputs": [],
   "source": [
    "iterable = (i*i for i in range(5))"
   ]
  },
  {
   "cell_type": "code",
   "execution_count": 50,
   "id": "591b6836-bcf2-4253-b492-c413ba6ce7a6",
   "metadata": {},
   "outputs": [
    {
     "data": {
      "text/plain": [
       "array([ 0.,  1.,  4.,  9., 16.])"
      ]
     },
     "execution_count": 50,
     "metadata": {},
     "output_type": "execute_result"
    }
   ],
   "source": [
    "np.fromiter(iterable, float)"
   ]
  },
  {
   "cell_type": "code",
   "execution_count": 51,
   "id": "b5d6e0dd-95b3-40d9-8ca3-6cd0bbb9c7b2",
   "metadata": {},
   "outputs": [
    {
     "data": {
      "text/plain": [
       "array([23., 45., 56.])"
      ]
     },
     "execution_count": 51,
     "metadata": {},
     "output_type": "execute_result"
    }
   ],
   "source": [
    "np.fromstring(\"23 45 56\", sep = \" \")"
   ]
  },
  {
   "cell_type": "code",
   "execution_count": 52,
   "id": "4c045867-9d85-4c22-8885-169783a1ae55",
   "metadata": {},
   "outputs": [
    {
     "data": {
      "text/plain": [
       "array([23., 45., 56.])"
      ]
     },
     "execution_count": 52,
     "metadata": {},
     "output_type": "execute_result"
    }
   ],
   "source": [
    "np.fromstring(\"23,45,56\", sep = \",\")"
   ]
  },
  {
   "cell_type": "markdown",
   "id": "a57e8aeb-8ad3-4232-a3a7-3805453c8571",
   "metadata": {},
   "source": [
    "### dimension, size and shape of array"
   ]
  },
  {
   "cell_type": "code",
   "execution_count": 53,
   "id": "1f391126-dc01-4ea5-95fd-c902ed9c723d",
   "metadata": {},
   "outputs": [
    {
     "data": {
      "text/plain": [
       "array([100,   2,   3,   4,   5])"
      ]
     },
     "execution_count": 53,
     "metadata": {},
     "output_type": "execute_result"
    }
   ],
   "source": [
    "arr"
   ]
  },
  {
   "cell_type": "code",
   "execution_count": 54,
   "id": "c40546a3-b08e-43cd-b464-40df93dcc38e",
   "metadata": {},
   "outputs": [
    {
     "data": {
      "text/plain": [
       "array([[1, 2, 3],\n",
       "       [2, 3, 4]])"
      ]
     },
     "execution_count": 54,
     "metadata": {},
     "output_type": "execute_result"
    }
   ],
   "source": [
    "arr1"
   ]
  },
  {
   "cell_type": "code",
   "execution_count": 55,
   "id": "8d30f862-5572-4200-a2ec-df1252dfa8af",
   "metadata": {},
   "outputs": [
    {
     "data": {
      "text/plain": [
       "1"
      ]
     },
     "execution_count": 55,
     "metadata": {},
     "output_type": "execute_result"
    }
   ],
   "source": [
    "arr.ndim"
   ]
  },
  {
   "cell_type": "code",
   "execution_count": 56,
   "id": "c3af7d14-7832-43f6-bcb0-5f0ffde20bff",
   "metadata": {},
   "outputs": [
    {
     "data": {
      "text/plain": [
       "2"
      ]
     },
     "execution_count": 56,
     "metadata": {},
     "output_type": "execute_result"
    }
   ],
   "source": [
    "arr1.ndim"
   ]
  },
  {
   "cell_type": "code",
   "execution_count": 59,
   "id": "4ec39eb1-05b2-475c-9718-d274fbb865e7",
   "metadata": {},
   "outputs": [
    {
     "data": {
      "text/plain": [
       "5"
      ]
     },
     "execution_count": 59,
     "metadata": {},
     "output_type": "execute_result"
    }
   ],
   "source": [
    "arr.size # gives total elemets inside array"
   ]
  },
  {
   "cell_type": "code",
   "execution_count": 60,
   "id": "20bf29d6-c800-4465-8957-72bdd1cf0380",
   "metadata": {},
   "outputs": [
    {
     "data": {
      "text/plain": [
       "6"
      ]
     },
     "execution_count": 60,
     "metadata": {},
     "output_type": "execute_result"
    }
   ],
   "source": [
    "arr1.size"
   ]
  },
  {
   "cell_type": "code",
   "execution_count": 61,
   "id": "d8abc461-2f5e-4e2a-b817-d17f6629a38b",
   "metadata": {},
   "outputs": [
    {
     "data": {
      "text/plain": [
       "(5,)"
      ]
     },
     "execution_count": 61,
     "metadata": {},
     "output_type": "execute_result"
    }
   ],
   "source": [
    "arr.shape"
   ]
  },
  {
   "cell_type": "code",
   "execution_count": 63,
   "id": "5fb5556a-7271-463d-a9f3-1509b17c3676",
   "metadata": {},
   "outputs": [
    {
     "data": {
      "text/plain": [
       "(2, 3)"
      ]
     },
     "execution_count": 63,
     "metadata": {},
     "output_type": "execute_result"
    }
   ],
   "source": [
    "arr1.shape # gives total rows and total columns in an array"
   ]
  },
  {
   "cell_type": "markdown",
   "id": "75270c48-3a5b-4001-9fab-d2c2c74168f9",
   "metadata": {},
   "source": [
    "### array datatype"
   ]
  },
  {
   "cell_type": "code",
   "execution_count": 64,
   "id": "a1c56e9f-886f-49a6-a18e-a558a914ef8a",
   "metadata": {},
   "outputs": [
    {
     "data": {
      "text/plain": [
       "dtype('int64')"
      ]
     },
     "execution_count": 64,
     "metadata": {},
     "output_type": "execute_result"
    }
   ],
   "source": [
    "arr.dtype"
   ]
  },
  {
   "cell_type": "code",
   "execution_count": 65,
   "id": "adc1cb2c-852d-4ec3-b435-b53f1a003708",
   "metadata": {},
   "outputs": [
    {
     "data": {
      "text/plain": [
       "dtype('int64')"
      ]
     },
     "execution_count": 65,
     "metadata": {},
     "output_type": "execute_result"
    }
   ],
   "source": [
    "arr1.dtype"
   ]
  },
  {
   "cell_type": "code",
   "execution_count": null,
   "id": "883972af-6bf2-4b1b-b5b7-f0ec7716f6cb",
   "metadata": {},
   "outputs": [],
   "source": []
  }
 ],
 "metadata": {
  "kernelspec": {
   "display_name": "Python 3 (ipykernel)",
   "language": "python",
   "name": "python3"
  },
  "language_info": {
   "codemirror_mode": {
    "name": "ipython",
    "version": 3
   },
   "file_extension": ".py",
   "mimetype": "text/x-python",
   "name": "python",
   "nbconvert_exporter": "python",
   "pygments_lexer": "ipython3",
   "version": "3.10.8"
  }
 },
 "nbformat": 4,
 "nbformat_minor": 5
}
